{
 "cells": [
  {
   "cell_type": "code",
   "execution_count": 1,
   "metadata": {},
   "outputs": [
    {
     "name": "stdout",
     "output_type": "stream",
     "text": [
      "Collecting amadeus\n",
      "  Downloading amadeus-10.1.0.tar.gz (38 kB)\n",
      "  Preparing metadata (setup.py): started\n",
      "  Preparing metadata (setup.py): finished with status 'done'\n",
      "Building wheels for collected packages: amadeus\n",
      "  Building wheel for amadeus (setup.py): started\n",
      "  Building wheel for amadeus (setup.py): finished with status 'done'\n",
      "  Created wheel for amadeus: filename=amadeus-10.1.0-py2.py3-none-any.whl size=73314 sha256=e3862243585d3d5ca02ba35602640802759e4b18328ce06d4682093fdddb41c1\n",
      "  Stored in directory: c:\\users\\joede\\appdata\\local\\pip\\cache\\wheels\\64\\5e\\98\\f8fcdc0328796d3861dcceba676a95f53370299b992942d762\n",
      "Successfully built amadeus\n",
      "Installing collected packages: amadeus\n",
      "Successfully installed amadeus-10.1.0\n",
      "Note: you may need to restart the kernel to use updated packages.\n"
     ]
    }
   ],
   "source": [
    "%pip install amadeus"
   ]
  },
  {
   "cell_type": "code",
   "execution_count": 2,
   "metadata": {},
   "outputs": [
    {
     "name": "stdout",
     "output_type": "stream",
     "text": [
      "[{'type': 'airline', 'iataCode': 'BA', 'icaoCode': 'BAW', 'businessName': 'BRITISH AIRWAYS', 'commonName': 'BRITISH A/W'}]\n"
     ]
    }
   ],
   "source": [
    "# Install the Python library from https://pypi.org/project/amadeus\n",
    "from amadeus import Client, ResponseError\n",
    "\n",
    "amadeus = Client(\n",
    "    client_id='lOER93TV1OAB53IcEh1uOaxASBRF2EOy',\n",
    "    client_secret='vo3FVCAFGEGxkySd'\n",
    ")\n",
    "\n",
    "try:\n",
    "    '''\n",
    "    What's the airline name for the IATA code BA?\n",
    "    '''\n",
    "    response = amadeus.reference_data.airlines.get(airlineCodes='BA')\n",
    "    print(response.data)\n",
    "except ResponseError as error:\n",
    "    raise error"
   ]
  },
  {
   "cell_type": "code",
   "execution_count": 10,
   "metadata": {},
   "outputs": [],
   "source": []
  },
  {
   "cell_type": "code",
   "execution_count": null,
   "metadata": {},
   "outputs": [],
   "source": []
  }
 ],
 "metadata": {
  "kernelspec": {
   "display_name": "Python 3 (ipykernel)",
   "language": "python",
   "name": "python3"
  },
  "language_info": {
   "codemirror_mode": {
    "name": "ipython",
    "version": 3
   },
   "file_extension": ".py",
   "mimetype": "text/x-python",
   "name": "python",
   "nbconvert_exporter": "python",
   "pygments_lexer": "ipython3",
   "version": "3.9.19"
  }
 },
 "nbformat": 4,
 "nbformat_minor": 4
}
