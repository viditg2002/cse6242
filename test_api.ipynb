{
 "cells": [
  {
   "cell_type": "code",
   "execution_count": 1,
   "metadata": {},
   "outputs": [
    {
     "name": "stdout",
     "output_type": "stream",
     "text": [
      "Requirement already satisfied: amadeus in /srv/conda/envs/notebook/lib/python3.10/site-packages (10.1.0)\n",
      "Note: you may need to restart the kernel to use updated packages.\n"
     ]
    }
   ],
   "source": [
    "%pip install amadeus"
   ]
  },
  {
   "cell_type": "code",
   "execution_count": 6,
   "metadata": {},
   "outputs": [
    {
     "name": "stdout",
     "output_type": "stream",
     "text": [
      "[{'type': 'airline', 'iataCode': 'BA', 'icaoCode': 'BAW', 'businessName': 'BRITISH AIRWAYS', 'commonName': 'BRITISH A/W'}]\n"
     ]
    }
   ],
   "source": [
    "# Install the Python library from https://pypi.org/project/amadeus\n",
    "from amadeus import Client, ResponseError\n",
    "\n",
    "\n",
    "\n",
    "amadeus = Client(\n",
    "    client_id='lOER93TV1OAB53IcEh1uOaxASBRF2EOy',\n",
    "    client_secret='vo3FVCAFGEGxkySd'\n",
    ")\n",
    "\n",
    "try:\n",
    "    '''\n",
    "    What's the airline name for the IATA code BA?\n",
    "    '''\n",
    "    response = amadeus.reference_data.airlines.get(airlineCodes='BA')\n",
    "    print(response.data)\n",
    "except ResponseError as error:\n",
    "    raise error"
   ]
  },
  {
   "cell_type": "code",
   "execution_count": 5,
   "metadata": {},
   "outputs": [
    {
     "name": "stdout",
     "output_type": "stream",
     "text": [
      "[{'type': 'location', 'subtype': 'city', 'name': 'ATLANTA', 'iataCode': 'ATL', 'geoCode': {'latitude': 33.64112, 'longitude': -84.42277}, 'address': {'countryName': 'UNITED STATES OF AMERICA', 'countryCode': 'US', 'stateCode': 'GA', 'regionCode': 'NAMER'}, 'timeZone': {'offSet': '-04:00', 'referenceLocalDateTime': '2024-09-22T20:23:17'}}, {'type': 'location', 'subtype': 'city', 'name': 'AUSTIN', 'iataCode': 'AUS', 'geoCode': {'latitude': 30.19445, 'longitude': -97.67}, 'address': {'countryName': 'UNITED STATES OF AMERICA', 'countryCode': 'US', 'stateCode': 'TX', 'regionCode': 'NAMER'}, 'timeZone': {'offSet': '-05:00', 'referenceLocalDateTime': '2024-09-22T20:23:17'}}, {'type': 'location', 'subtype': 'city', 'name': 'NASHVILLE', 'iataCode': 'BNA', 'geoCode': {'latitude': 36.11945, 'longitude': -86.68416}, 'address': {'countryName': 'UNITED STATES OF AMERICA', 'countryCode': 'US', 'stateCode': 'TN', 'regionCode': 'NAMER'}, 'timeZone': {'offSet': '-05:00', 'referenceLocalDateTime': '2024-09-22T20:23:17'}}, {'type': 'location', 'subtype': 'city', 'name': 'BOSTON', 'iataCode': 'BOS', 'geoCode': {'latitude': 42.36528, 'longitude': -71.01777}, 'address': {'countryName': 'UNITED STATES OF AMERICA', 'countryCode': 'US', 'stateCode': 'MA', 'regionCode': 'NAMER'}, 'timeZone': {'offSet': '-04:00', 'referenceLocalDateTime': '2024-09-22T20:23:17'}}, {'type': 'location', 'subtype': 'city', 'name': 'BUFFALO', 'iataCode': 'BUF', 'geoCode': {'latitude': 42.94028, 'longitude': -78.73166}, 'address': {'countryName': 'UNITED STATES OF AMERICA', 'countryCode': 'US', 'stateCode': 'NY', 'regionCode': 'NAMER'}, 'timeZone': {'offSet': '-04:00', 'referenceLocalDateTime': '2024-09-22T20:23:17'}}, {'type': 'location', 'subtype': 'city', 'name': 'CHICAGO', 'iataCode': 'CHI', 'geoCode': {'latitude': 41.85, 'longitude': -87.65}, 'address': {'countryName': 'UNITED STATES OF AMERICA', 'countryCode': 'US', 'stateCode': 'IL', 'regionCode': 'NAMER'}, 'timeZone': {'offSet': '-05:00', 'referenceLocalDateTime': '2024-09-22T20:23:17'}}, {'type': 'location', 'subtype': 'city', 'name': 'CHARLESTON', 'iataCode': 'CHS', 'geoCode': {'latitude': 32.89862, 'longitude': -80.04027}, 'address': {'countryName': 'UNITED STATES OF AMERICA', 'countryCode': 'US', 'stateCode': 'SC', 'regionCode': 'NAMER'}, 'timeZone': {'offSet': '-04:00', 'referenceLocalDateTime': '2024-09-22T20:23:17'}}, {'type': 'location', 'subtype': 'city', 'name': 'CLEVELAND', 'iataCode': 'CLE', 'geoCode': {'latitude': 41.41167, 'longitude': -81.84972}, 'address': {'countryName': 'UNITED STATES OF AMERICA', 'countryCode': 'US', 'stateCode': 'OH', 'regionCode': 'NAMER'}, 'timeZone': {'offSet': '-04:00', 'referenceLocalDateTime': '2024-09-22T20:23:17'}}, {'type': 'location', 'subtype': 'city', 'name': 'CHARLOTTE', 'iataCode': 'CLT', 'geoCode': {'latitude': 35.2207, 'longitude': -80.94413}, 'address': {'countryName': 'UNITED STATES OF AMERICA', 'countryCode': 'US', 'stateCode': 'NC', 'regionCode': 'NAMER'}, 'timeZone': {'offSet': '-04:00', 'referenceLocalDateTime': '2024-09-22T20:23:17'}}, {'type': 'location', 'subtype': 'city', 'name': 'COLUMBUS', 'iataCode': 'CMH', 'geoCode': {'latitude': 39.99806, 'longitude': -82.88361}, 'address': {'countryName': 'UNITED STATES OF AMERICA', 'countryCode': 'US', 'stateCode': 'OH', 'regionCode': 'NAMER'}, 'timeZone': {'offSet': '-04:00', 'referenceLocalDateTime': '2024-09-22T20:23:17'}}, {'type': 'location', 'subtype': 'city', 'name': 'COLUMBUS', 'iataCode': 'CSG', 'geoCode': {'latitude': 32.51612, 'longitude': -84.93888}, 'address': {'countryName': 'UNITED STATES OF AMERICA', 'countryCode': 'US', 'stateCode': 'GA', 'regionCode': 'NAMER'}, 'timeZone': {'offSet': '-04:00', 'referenceLocalDateTime': '2024-09-22T20:23:17'}}, {'type': 'location', 'subtype': 'city', 'name': 'CANCUN', 'iataCode': 'CUN', 'geoCode': {'latitude': 21.03667, 'longitude': -86.87694}, 'address': {'countryName': 'MEXICO', 'countryCode': 'MX', 'regionCode': 'NAMER'}, 'timeZone': {'offSet': '-05:00', 'referenceLocalDateTime': '2024-09-22T20:23:17'}}, {'type': 'location', 'subtype': 'city', 'name': 'CINCINNATI', 'iataCode': 'CVG', 'geoCode': {'latitude': 39.04889, 'longitude': -84.66777}, 'address': {'countryName': 'UNITED STATES OF AMERICA', 'countryCode': 'US', 'stateCode': 'OH', 'regionCode': 'NAMER'}, 'timeZone': {'offSet': '-04:00', 'referenceLocalDateTime': '2024-09-22T20:23:17'}}, {'type': 'location', 'subtype': 'city', 'name': 'DENVER', 'iataCode': 'DEN', 'geoCode': {'latitude': 39.86167, 'longitude': -104.6731}, 'address': {'countryName': 'UNITED STATES OF AMERICA', 'countryCode': 'US', 'stateCode': 'CO', 'regionCode': 'NAMER'}, 'timeZone': {'offSet': '-06:00', 'referenceLocalDateTime': '2024-09-22T20:23:17'}}, {'type': 'location', 'subtype': 'city', 'name': 'DALLAS', 'iataCode': 'DFW', 'geoCode': {'latitude': 32.89695, 'longitude': -97.03805}, 'address': {'countryName': 'UNITED STATES OF AMERICA', 'countryCode': 'US', 'stateCode': 'TX', 'regionCode': 'NAMER'}, 'timeZone': {'offSet': '-05:00', 'referenceLocalDateTime': '2024-09-22T20:23:17'}}, {'type': 'location', 'subtype': 'city', 'name': 'DETROIT', 'iataCode': 'DTT', 'geoCode': {'latitude': 42.33139, 'longitude': -83.04583}, 'address': {'countryName': 'UNITED STATES OF AMERICA', 'countryCode': 'US', 'stateCode': 'MI', 'regionCode': 'NAMER'}, 'timeZone': {'offSet': '-04:00', 'referenceLocalDateTime': '2024-09-22T20:23:17'}}, {'type': 'location', 'subtype': 'city', 'name': 'FT LAUDERDALE', 'iataCode': 'FLL', 'geoCode': {'latitude': 26.07147, 'longitude': -80.144}, 'address': {'countryName': 'UNITED STATES OF AMERICA', 'countryCode': 'US', 'stateCode': 'FL', 'regionCode': 'NAMER'}, 'timeZone': {'offSet': '-04:00', 'referenceLocalDateTime': '2024-09-22T20:23:17'}}, {'type': 'location', 'subtype': 'city', 'name': 'FORT MYERS', 'iataCode': 'FMY', 'geoCode': {'latitude': 26.58667, 'longitude': -81.86277}, 'address': {'countryName': 'UNITED STATES OF AMERICA', 'countryCode': 'US', 'stateCode': 'FL', 'regionCode': 'NAMER'}, 'timeZone': {'offSet': '-04:00', 'referenceLocalDateTime': '2024-09-22T20:23:17'}}, {'type': 'location', 'subtype': 'city', 'name': 'SEVIERVILLE', 'iataCode': 'GKT', 'geoCode': {'latitude': 35.85, 'longitude': -82.03}, 'address': {'countryName': 'UNITED STATES OF AMERICA', 'countryCode': 'US', 'stateCode': 'TN', 'regionCode': 'NAMER'}, 'timeZone': {'offSet': '-04:00', 'referenceLocalDateTime': '2024-09-22T20:23:17'}}, {'type': 'location', 'subtype': 'city', 'name': 'HARTFORD', 'iataCode': 'HFD', 'geoCode': {'latitude': 41.73667, 'longitude': -72.64972}, 'address': {'countryName': 'UNITED STATES OF AMERICA', 'countryCode': 'US', 'stateCode': 'CT', 'regionCode': 'NAMER'}, 'timeZone': {'offSet': '-04:00', 'referenceLocalDateTime': '2024-09-22T20:23:17'}}, {'type': 'location', 'subtype': 'city', 'name': 'HOUSTON', 'iataCode': 'HOU', 'geoCode': {'latitude': 29.64556, 'longitude': -95.27888}, 'address': {'countryName': 'UNITED STATES OF AMERICA', 'countryCode': 'US', 'stateCode': 'TX', 'regionCode': 'NAMER'}, 'timeZone': {'offSet': '-05:00', 'referenceLocalDateTime': '2024-09-22T20:23:17'}}, {'type': 'location', 'subtype': 'city', 'name': 'WILMINGTON', 'iataCode': 'ILG', 'geoCode': {'latitude': 39.67834, 'longitude': -75.60638}, 'address': {'countryName': 'UNITED STATES OF AMERICA', 'countryCode': 'US', 'stateCode': 'DE', 'regionCode': 'NAMER'}, 'timeZone': {'offSet': '-04:00', 'referenceLocalDateTime': '2024-09-22T20:23:17'}}, {'type': 'location', 'subtype': 'city', 'name': 'INDIANAPOLIS', 'iataCode': 'IND', 'geoCode': {'latitude': 39.71723, 'longitude': -86.29444}, 'address': {'countryName': 'UNITED STATES OF AMERICA', 'countryCode': 'US', 'stateCode': 'IN', 'regionCode': 'NAMER'}, 'timeZone': {'offSet': '-04:00', 'referenceLocalDateTime': '2024-09-22T20:23:17'}}, {'type': 'location', 'subtype': 'city', 'name': 'JACKSONVILLE', 'iataCode': 'JAX', 'geoCode': {'latitude': 30.49195, 'longitude': -81.68555}, 'address': {'countryName': 'UNITED STATES OF AMERICA', 'countryCode': 'US', 'stateCode': 'FL', 'regionCode': 'NAMER'}, 'timeZone': {'offSet': '-04:00', 'referenceLocalDateTime': '2024-09-22T20:23:17'}}, {'type': 'location', 'subtype': 'city', 'name': 'LAS VEGAS', 'iataCode': 'LAS', 'geoCode': {'latitude': 36.08001, 'longitude': -115.1522}, 'address': {'countryName': 'UNITED STATES OF AMERICA', 'countryCode': 'US', 'stateCode': 'NV', 'regionCode': 'NAMER'}, 'timeZone': {'offSet': '-07:00', 'referenceLocalDateTime': '2024-09-22T20:23:17'}}, {'type': 'location', 'subtype': 'city', 'name': 'LOS ANGELES', 'iataCode': 'LAX', 'geoCode': {'latitude': 33.9425, 'longitude': -118.4081}, 'address': {'countryName': 'UNITED STATES OF AMERICA', 'countryCode': 'US', 'stateCode': 'CA', 'regionCode': 'NAMER'}, 'timeZone': {'offSet': '-07:00', 'referenceLocalDateTime': '2024-09-22T20:23:17'}}, {'type': 'location', 'subtype': 'city', 'name': 'LANCASTER', 'iataCode': 'LNS', 'geoCode': {'latitude': 40.12167, 'longitude': -76.29611}, 'address': {'countryName': 'UNITED STATES OF AMERICA', 'countryCode': 'US', 'stateCode': 'PA', 'regionCode': 'NAMER'}, 'timeZone': {'offSet': '-04:00', 'referenceLocalDateTime': '2024-09-22T20:23:17'}}, {'type': 'location', 'subtype': 'city', 'name': 'LONDON', 'iataCode': 'LON', 'geoCode': {'latitude': 51.5, 'longitude': -0.16666}, 'address': {'countryName': 'UNITED KINGDOM', 'countryCode': 'GB', 'regionCode': 'EUROP'}, 'timeZone': {'offSet': '+01:00', 'referenceLocalDateTime': '2024-09-22T20:23:17'}}, {'type': 'location', 'subtype': 'city', 'name': 'MONTEGO BAY', 'iataCode': 'MBJ', 'geoCode': {'latitude': 18.50362, 'longitude': -77.91333}, 'address': {'countryName': 'JAMAICA', 'countryCode': 'JM', 'regionCode': 'CARIB'}, 'timeZone': {'offSet': '-05:00', 'referenceLocalDateTime': '2024-09-22T20:23:17'}}, {'type': 'location', 'subtype': 'city', 'name': 'MIAMI', 'iataCode': 'MIA', 'geoCode': {'latitude': 25.79334, 'longitude': -80.28999}, 'address': {'countryName': 'UNITED STATES OF AMERICA', 'countryCode': 'US', 'stateCode': 'FL', 'regionCode': 'NAMER'}, 'timeZone': {'offSet': '-04:00', 'referenceLocalDateTime': '2024-09-22T20:23:17'}}, {'type': 'location', 'subtype': 'city', 'name': 'MINNEAPOLIS/ST PAUL', 'iataCode': 'MSP', 'geoCode': {'latitude': 44.88195, 'longitude': -93.20835}, 'address': {'countryName': 'UNITED STATES OF AMERICA', 'countryCode': 'US', 'stateCode': 'MN', 'regionCode': 'NAMER'}, 'timeZone': {'offSet': '-05:00', 'referenceLocalDateTime': '2024-09-22T20:23:17'}}, {'type': 'location', 'subtype': 'city', 'name': 'NEW ORLEANS', 'iataCode': 'MSY', 'geoCode': {'latitude': 29.99334, 'longitude': -90.25805}, 'address': {'countryName': 'UNITED STATES OF AMERICA', 'countryCode': 'US', 'stateCode': 'LA', 'regionCode': 'NAMER'}, 'timeZone': {'offSet': '-05:00', 'referenceLocalDateTime': '2024-09-22T20:23:17'}}, {'type': 'location', 'subtype': 'city', 'name': 'NEW YORK', 'iataCode': 'NYC', 'geoCode': {'latitude': 40.71417, 'longitude': -74.00583}, 'address': {'countryName': 'UNITED STATES OF AMERICA', 'countryCode': 'US', 'stateCode': 'NY', 'regionCode': 'NAMER'}, 'timeZone': {'offSet': '-04:00', 'referenceLocalDateTime': '2024-09-22T20:23:17'}}, {'type': 'location', 'subtype': 'city', 'name': 'ORANGEBURG', 'iataCode': 'OGB', 'geoCode': {'latitude': 33.45, 'longitude': -80.85}, 'address': {'countryName': 'UNITED STATES OF AMERICA', 'countryCode': 'US', 'stateCode': 'SC', 'regionCode': 'NAMER'}, 'timeZone': {'offSet': '-04:00', 'referenceLocalDateTime': '2024-09-22T20:23:17'}}, {'type': 'location', 'subtype': 'city', 'name': 'ORLANDO', 'iataCode': 'ORL', 'geoCode': {'latitude': 28.53, 'longitude': -81.35}, 'address': {'countryName': 'UNITED STATES OF AMERICA', 'countryCode': 'US', 'stateCode': 'FL', 'regionCode': 'NAMER'}, 'timeZone': {'offSet': '-04:00', 'referenceLocalDateTime': '2024-09-22T20:23:17'}}, {'type': 'location', 'subtype': 'city', 'name': 'PARIS', 'iataCode': 'PAR', 'geoCode': {'latitude': 48.85334, 'longitude': 2.34889}, 'address': {'countryName': 'FRANCE', 'countryCode': 'FR', 'regionCode': 'EUROP'}, 'timeZone': {'offSet': '+02:00', 'referenceLocalDateTime': '2024-09-22T20:23:17'}}, {'type': 'location', 'subtype': 'city', 'name': 'PUNTA GORDA', 'iataCode': 'PGD', 'geoCode': {'latitude': 26.92, 'longitude': -81.98}, 'address': {'countryName': 'UNITED STATES OF AMERICA', 'countryCode': 'US', 'stateCode': 'FL', 'regionCode': 'NAMER'}, 'timeZone': {'offSet': '-04:00', 'referenceLocalDateTime': '2024-09-22T20:23:17'}}, {'type': 'location', 'subtype': 'city', 'name': 'PHILADELPHIA', 'iataCode': 'PHL', 'geoCode': {'latitude': 39.87834, 'longitude': -75.24027}, 'address': {'countryName': 'UNITED STATES OF AMERICA', 'countryCode': 'US', 'stateCode': 'PA', 'regionCode': 'NAMER'}, 'timeZone': {'offSet': '-04:00', 'referenceLocalDateTime': '2024-09-22T20:23:17'}}, {'type': 'location', 'subtype': 'city', 'name': 'PHOENIX', 'iataCode': 'PHX', 'geoCode': {'latitude': 33.43556, 'longitude': -111.9981}, 'address': {'countryName': 'UNITED STATES OF AMERICA', 'countryCode': 'US', 'stateCode': 'AZ', 'regionCode': 'NAMER'}, 'timeZone': {'offSet': '-07:00', 'referenceLocalDateTime': '2024-09-22T20:23:17'}}, {'type': 'location', 'subtype': 'city', 'name': 'PITTSBURGH', 'iataCode': 'PIT', 'geoCode': {'latitude': 40.49139, 'longitude': -80.23277}, 'address': {'countryName': 'UNITED STATES OF AMERICA', 'countryCode': 'US', 'stateCode': 'PA', 'regionCode': 'NAMER'}, 'timeZone': {'offSet': '-04:00', 'referenceLocalDateTime': '2024-09-22T20:23:17'}}, {'type': 'location', 'subtype': 'city', 'name': 'PORTLAND', 'iataCode': 'PWM', 'geoCode': {'latitude': 43.64723, 'longitude': -70.31}, 'address': {'countryName': 'UNITED STATES OF AMERICA', 'countryCode': 'US', 'stateCode': 'ME', 'regionCode': 'NAMER'}, 'timeZone': {'offSet': '-04:00', 'referenceLocalDateTime': '2024-09-22T20:23:17'}}, {'type': 'location', 'subtype': 'city', 'name': 'SEATTLE', 'iataCode': 'SEA', 'geoCode': {'latitude': 47.44889, 'longitude': -122.3094}, 'address': {'countryName': 'UNITED STATES OF AMERICA', 'countryCode': 'US', 'stateCode': 'WA', 'regionCode': 'NAMER'}, 'timeZone': {'offSet': '-07:00', 'referenceLocalDateTime': '2024-09-22T20:23:17'}}, {'type': 'location', 'subtype': 'city', 'name': 'SAN FRANCISCO', 'iataCode': 'SFO', 'geoCode': {'latitude': 37.61889, 'longitude': -122.375}, 'address': {'countryName': 'UNITED STATES OF AMERICA', 'countryCode': 'US', 'stateCode': 'CA', 'regionCode': 'NAMER'}, 'timeZone': {'offSet': '-07:00', 'referenceLocalDateTime': '2024-09-22T20:23:17'}}, {'type': 'location', 'subtype': 'city', 'name': 'SAN JUAN', 'iataCode': 'SJU', 'geoCode': {'latitude': 18.43945, 'longitude': -66.00194}, 'address': {'countryName': 'PUERTO RICO', 'countryCode': 'PR', 'regionCode': 'CARIB'}, 'timeZone': {'offSet': '-04:00', 'referenceLocalDateTime': '2024-09-22T20:23:17'}}, {'type': 'location', 'subtype': 'city', 'name': 'SALT LAKE CITY', 'iataCode': 'SLC', 'geoCode': {'latitude': 40.78834, 'longitude': -111.9778}, 'address': {'countryName': 'UNITED STATES OF AMERICA', 'countryCode': 'US', 'stateCode': 'UT', 'regionCode': 'NAMER'}, 'timeZone': {'offSet': '-06:00', 'referenceLocalDateTime': '2024-09-22T20:23:17'}}, {'type': 'location', 'subtype': 'city', 'name': 'ST LOUIS', 'iataCode': 'STL', 'geoCode': {'latitude': 38.74334, 'longitude': -90.36555}, 'address': {'countryName': 'UNITED STATES OF AMERICA', 'countryCode': 'US', 'stateCode': 'MO', 'regionCode': 'NAMER'}, 'timeZone': {'offSet': '-05:00', 'referenceLocalDateTime': '2024-09-22T20:23:17'}}, {'type': 'location', 'subtype': 'city', 'name': 'TAMPA', 'iataCode': 'TPA', 'geoCode': {'latitude': 27.97556, 'longitude': -82.53333}, 'address': {'countryName': 'UNITED STATES OF AMERICA', 'countryCode': 'US', 'stateCode': 'FL', 'regionCode': 'NAMER'}, 'timeZone': {'offSet': '-04:00', 'referenceLocalDateTime': '2024-09-22T20:23:17'}}, {'type': 'location', 'subtype': 'city', 'name': 'DESTIN FT WALTON BEACH', 'iataCode': 'VPS', 'geoCode': {'latitude': 30.49612, 'longitude': -86.54944}, 'address': {'countryName': 'UNITED STATES OF AMERICA', 'countryCode': 'US', 'stateCode': 'FL', 'regionCode': 'NAMER'}, 'timeZone': {'offSet': '-05:00', 'referenceLocalDateTime': '2024-09-22T20:23:17'}}, {'type': 'location', 'subtype': 'city', 'name': 'BALTIMORE', 'iataCode': 'WAS', 'geoCode': {'latitude': 38.895, 'longitude': -77.03638}, 'address': {'countryName': 'UNITED STATES OF AMERICA', 'countryCode': 'US', 'stateCode': 'DC', 'regionCode': 'NAMER'}, 'timeZone': {'offSet': '-04:00', 'referenceLocalDateTime': '2024-09-22T20:23:17'}}, {'type': 'location', 'subtype': 'city', 'name': 'WASHINGTON', 'iataCode': 'WAS', 'geoCode': {'latitude': 38.895, 'longitude': -77.03638}, 'address': {'countryName': 'UNITED STATES OF AMERICA', 'countryCode': 'US', 'stateCode': 'DC', 'regionCode': 'NAMER'}, 'timeZone': {'offSet': '-04:00', 'referenceLocalDateTime': '2024-09-22T20:23:17'}}, {'type': 'location', 'subtype': 'city', 'name': 'MONTREAL', 'iataCode': 'YMQ', 'geoCode': {'latitude': 45.50889, 'longitude': -73.58777}, 'address': {'countryName': 'CANADA', 'countryCode': 'CA', 'stateCode': 'QC', 'regionCode': 'NAMER'}, 'timeZone': {'offSet': '-04:00', 'referenceLocalDateTime': '2024-09-22T20:23:17'}}, {'type': 'location', 'subtype': 'city', 'name': 'TORONTO', 'iataCode': 'YTO', 'geoCode': {'latitude': 43.7, 'longitude': -79.41638}, 'address': {'countryName': 'CANADA', 'countryCode': 'CA', 'stateCode': 'ON', 'regionCode': 'NAMER'}, 'timeZone': {'offSet': '-04:00', 'referenceLocalDateTime': '2024-09-22T20:23:17'}}]\n"
     ]
    }
   ],
   "source": [
    "try:\n",
    "    '''\n",
    "    What are the destinations served by MAD airport?\n",
    "    '''\n",
    "    response = amadeus.airport.direct_destinations.get(departureAirportCode='RDU')\n",
    "    print(response.data)\n",
    "except ResponseError as error:\n",
    "    raise error"
   ]
  },
  {
   "cell_type": "code",
   "execution_count": null,
   "metadata": {},
   "outputs": [],
   "source": []
  }
 ],
 "metadata": {
  "kernelspec": {
   "display_name": "Python 3 (ipykernel)",
   "language": "python",
   "name": "python3"
  },
  "language_info": {
   "codemirror_mode": {
    "name": "ipython",
    "version": 3
   },
   "file_extension": ".py",
   "mimetype": "text/x-python",
   "name": "python",
   "nbconvert_exporter": "python",
   "pygments_lexer": "ipython3",
   "version": "3.10.14"
  }
 },
 "nbformat": 4,
 "nbformat_minor": 4
}
